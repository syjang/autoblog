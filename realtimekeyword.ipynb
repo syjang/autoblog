{
 "cells": [
  {
   "cell_type": "code",
   "execution_count": 14,
   "metadata": {},
   "outputs": [
    {
     "name": "stdout",
     "output_type": "stream",
     "text": [
      "1 슈\n",
      "2 cl\n",
      "3 남영신\n",
      "4 씨엘 근황\n",
      "5 네이처셀\n",
      "6 슈 도박\n",
      "7 임효성\n",
      "8 펜타곤\n",
      "9 북한 석탄\n",
      "10 이던\n",
      "11 유진\n",
      "12 이석구\n",
      "13 유토\n",
      "14 후이\n",
      "15 밥블레스유 뷔페\n",
      "16 이석구 기무사령관\n",
      "17 윤종철 평양냉면\n",
      "18 수진\n",
      "19 박선숙\n",
      "20 트리플h\n"
     ]
    }
   ],
   "source": [
    "import requests\n",
    "from bs4 import BeautifulSoup\n",
    "\n",
    "html =requests.get(\"https://www.naver.com\").text\n",
    "#print(html)\n",
    "soup = BeautifulSoup(html,'html.parser')\n",
    "title_list = soup.select('.PM_CL_realtimeKeyword_rolling span[class*=ah_k]')\n",
    "\n",
    "#print(title_list)\n",
    "for idx ,title in enumerate(title_list,1):\n",
    "    print(idx,title.text)"
   ]
  },
  {
   "cell_type": "code",
   "execution_count": 15,
   "metadata": {},
   "outputs": [
    {
     "name": "stdout",
     "output_type": "stream",
     "text": [
      "{'query': '슈'}\n",
      "<!doctype html> <html lang=\"ko\"> <head> <meta charset=\"utf-8\"> <meta name=\"referrer\" content=\"always\"> <title>네이버 검색</title> <link rel=\"stylesheet\" type=\"text/css\" href=\"\"https://ssl.pstatic.net/sstatic/search/css/2011/common.css\"\"> <link rel=\"shortcut icon\" href=\"https://ssl.pstatic.net/sstatic/search/favicon/favicon_140327.ico\"> <style type=\"text/css\"> body{margin:0;padding:0;text-align:center} body,td,div{color:#404040;font-size:12px} img{border:none} label{cursor:hand;cursor:pointer} *{margin:0;padding:0} li{list-style-type:none} fieldset{border:none} legend{display:none} /* 120110 */ .blind{visibility:hidden;overflow:hidden;position:absolute;top:0;left:0;width:1px;height:1px;font-size:0;line-height:0} .logo a{display:block;width:93px;height:17px;background:url(https://ssl.pstatic.net/sstatic/search/img3/sp_block2.gif) 0 0 no-repeat}/* 120209 */ .info dt.share_pc{margin-right:10px;_margin-right:7px} .btn a{display:inline-block;margin-right:1px;background:url(https://ssl.pstatic.net/sstatic/search/img3/sp_block2.gif) no-repeat}/* 120209 */ .btn a.home{width:64px;height:24px;background-position:0 -180px} .btn a.btn_service{width:87px;height:24px;background-position:0 -150px} .captcha .input .ty_img{margin:1px 0 0 -1px} .captcha .desc a{color:#004790;text-decoration:underline} /* 글로벌 에러메시지 */ #login_message{width:660px;margin:0 auto;font-family:'돋움', Dotum, AppleGothic, sans-serif;text-align:left} #login_message img{vertical-align:top} .logo{margin:65px 0 10px 10px} .conts{border:none;background:url(https://ssl.pstatic.net/sstatic/search/citats/rnd01_bg.gif) repeat-y} .rnd_t{overflow:hidden;clear:both;width:auto;_width:100%;padding:61px 30px 55px 54px;_padding:61px 30px 48px 54px;background:url(https://ssl.pstatic.net/sstatic/search/citats/rnd02_t.gif) no-repeat} .rnd_b{clear:both;width:100%;height:7px;background:url(https://ssl.pstatic.net/sstatic/search/citats/rnd01_b.gif) 0 100% no-repeat} .notice_img{float:left;width:53px;height:46px;margin:0;background:url(https://ssl.pstatic.net/sstatic/search/img3/sp_block2.gif) 0 -30px no-repeat}/* 120209 */ .notice_txt{display:inline;float:left;width:477px;margin:0 0 0 17px} .notice_txt h3{height:24px;margin:0}/* 120210 */ .notice_txt p{line-height:18px}/* 120210 */ .notice_txt a{color:#004790;text-decoration:underline} .info01{margin:0 0 13px}/* 120210 */ .info02{margin:0 0 16px} .captcha dl.info{clear:both;width:100%;padding:12px 0 3px;color:#333}/* 120210 */ .captcha .info dt{float:left;clear:both;margin-top:2px;margin-right:3px;_margin-right:0}/* 120209 */ .captcha .info dd{overflow:hidden;height:auto;margin:0 0 6px 5px;line-height:16px;zoom:1}/* 120209 */ .btn{margin-top:14px;padding-top:12px;border-top:1px solid #efefef}/* 120210 */ .btn .btn_captcha{width:74px;height:24px;background-position:0 -120px}/* 120209 */ .btn .btn_captcha.on{background-position:0 -90px} .captcha{display:none;margin:3px 0 0;margin:4px 0 0\\0;*margin:7px 0 0}/* 120209 */ .captcha.on{display:block} .captcha fieldset{overflow:hidden;position:relative;width:450px;padding:14px 14px 10px 14px;background-color:#f7f7f7} .captcha dl{margin:0;padding:9px 0 0;*padding:8px 0 0}/* 120210 */ .captcha dt{float:none;height:17px;margin:0;padding:0;color:#333;font-weight:bold} .captcha dd{height:21px;margin:0;padding:0;color:#555} .captcha .img{float:left} .captcha .img img{display:block;margin:1px 0 5px;*margin:1px 0 3px} .captcha .img a{margin-left:50px;padding-left:12px;background:url(https://ssl.pstatic.net/sstatic/search/img3/sp_block2.gif) 0 -210px no-repeat;color:#666;font-size:11px;letter-spacing:-1px;text-decoration:underline}/* 120209 */ .captcha .img a:hover{text-decoration:underline} .captcha .input{float:right;height:30px} .captcha .input *{vertical-align:top} .captcha .input .input_text{position:relative;_top:-1px;width:188px;width:188px;height:19px;margin:1px 0 0;padding:2px 0 2px 6px;border:1px solid #c9cbcf;line-height:19px} .captcha .error{display:none;float:right;width:237px;margin-top:3px} .captcha .error.on{display:block} .captcha .error em{color:#ff5b00;font-style:normal} .captcha .desc{position:relative;margin:0 0 -8px;_margin:0 0 -5px;padding:13px 0 0;*padding:11px 0 0;color:#888;font-size:11px;letter-spacing:-1px;line-height:16px} #footer{clear:both;margin:0;padding:20px 0 28px;text-align:center} #footer *{margin:0;padding:0;color:#444;font-family:'돋움', Dotum, '굴림', Gulim, AppleGothic, Sans-serif;font-size:12px;line-height:normal;list-style:none} #footer a{color:#444;text-decoration:none} #footer a:visited{color:#666;text-decoration:none} #footer a:hover{text-decoration:underline} #footer ul{margin:0 0 14px} #footer ul li{display:inline;position:relative;padding:0 1px 0 6px;background:url(https://ssl.pstatic.net/sstatic/search/citats/line_v_footer10.gif) no-repeat 0 0;font-size:11px;white-space:nowrap} #footer ul li *{font-size:11px} #footer ul li.first{padding:0 1px 0 0;background:none} #footer ul a{letter-spacing:-1px} #footer address{margin:0 14px 0 0} #footer address{font:9px Verdana} #footer address a{color:#00535d;font:bold 9px Tahoma} /* 120209 */ .btn2{margin-top:-5px;padding-top:0;border-top:none}/* 120210 */ .notice_txt p.info{margin-top:17px;*margin-top:15px;padding-top:15px;border-top:1px solid #efefef}/* 120210 */ </style> </head> <script type=\"text/javascript\"> var g_ssc = \"tab.nx.all\" ; var g_query = \"%EC%8A%88\" ; var g_query_cr = \"%BD%B4\" ; var g_puid = \"T2n+4spySoCssbBRX00ssssssx0-474785\" ; var g_suid = \"yIvwQ/6tCxyvW5BbvF98lg==\" ; var g_tab = \"nexearch\" ; var g_stab = \"nexearch\" ; var g_crt = \"\" ; var g_D = 0 ; function urlencode (q) { return escape(q).replace(/\\+/g, \"%2B\") ; } function cpip () { var evt, sx = sy = px = py = -1 ; try { evt = window.event ; } catch (e) {} try { sx=evt.clientX-document.body.clientLeft, sy=evt.clientY-document.body.clientTop ; } catch (e) {} try { px=document.body.scrollLeft+(sx<0?0:sx), py=document.documentElement.scrollTop+(sy<0?0:sy) ; } catch (e) {} try { if (evt.pageX) px=evt.pageX ; if (evt.pageY) py=evt.pageY ; } catch (e) {} return \"px=\"+px+\"&py=\"+py+\"&sx=\"+sx+\"&sy=\"+sy ; } function nxGetCommonCRParam () { return \"p=\"+g_puid+\"&q=\"+g_query_cr+\"&ssc=\"+g_ssc+\"&f=\"+g_tab+\"&w=\"+g_stab+\"&s=\"+g_suid+\"&time=\"+(new Date()).getTime()+g_crt ; } function nxGetCRURL (m, a, b, c, d, e) { var p = \"\" ; var u ; if (c==undefined && d==undefined && e==undefined) { p = (a==undefined?\"\":\"&\"+a) + (b==undefined || a.indexOf(\"u=\")==0 || a.indexOf(\"&u=\") > 0 ?\"\":\"&u=\"+urlencode(b)) ; u = b ; } else { p = (a==undefined ? \"\" : \"&a=\"+urlencode(a)) + (b==undefined ? \"\" : \"&r=\"+urlencode(b)) + (c==undefined ? \"\" : \"&i=\"+urlencode(c)) + (d==undefined ? \"\" : \"&u=\"+urlencode(d)) + (e==undefined ? \"\" : \"&\"+e) ; u = d ; } if (! p) return null ; if (m != 0) m = g_D>1 && (u && u.indexOf(\"://\")>=0 && u.search(/^\\w*:\\/\\/([^:/?]*\\.|)*(?!(ad)?cr\\.)[^.:/?]+\\.+naver\\.com(:\\d*)?(\\/|$)/)<0) ? 2 : ((m<0) ? 0 : 1) ; return ((window.location.protocol&&window.location.protocol.indexOf(\"https:\")==0)?\"/p/cr/\":\"http://cr.naver.com/\")+(g_D>1?\"nr\":\"rd\")+\"?m=\"+m+\"&\"+cpip()+\"&\"+nxGetCommonCRParam()+p ; } function tCR (a, b, c, d, e) { var p = \"\" ; if (arguments.length < 3) p = (a==undefined?\"\":\"&\"+a)+(b==undefined?\"\":\"&u=\"+urlencode(b)) ; else p = (a==undefined?\"\":\"&a=\"+urlencode(a))+(b==undefined?\"\":\"&r=\"+urlencode(b))+(c==undefined?\"\":\"&i=\"+urlencode(c))+(d==undefined?\"\":\"&u=\"+urlencode(d))+(e==undefined?\"\":\"&\"+e) ; if (! p) return ; var l = \"http://cr.naver.com/rd?m=0&\"+cpip()+\"&\"+nxGetCommonCRParam()+p ; if (document.images) (new Image()).src = l ; else document.location = l ; return false ; } function goCR (o, p, t) { var u = o.href ; if (p.indexOf(\"u=javascript\") >= 0) t = true ; /* no frame/iframe but new window */ var n = (o.ownerDocument==document && o.target && o.target!=\"_self\" && o.target!=\"_parent\" && o.target!=\"_top\") && !(window.location.protocol&&window.location.protocol.indexOf(\"https:\")==0) ; if (!(u && u.indexOf(\"http://cr.naver.com/\")==0) && !(o.getAttribute !== undefined && o.getAttribute(\"crurl\"))) { u = nxGetCRURL(t?0:(n?-1:1), p, u) ; } if (u && !u.match(/m=0&/)) { var a = o.innerHTML ; o.href = u ; if (o.getAttribute !== undefined) o.setAttribute(\"crurl\", \"1\"); if (o.innerHTML != a) o.innerHTML = a ; } else if (document.images) (new Image()).src = u ; return true ; } function goOtherCR (o, p) { return goCR(o, p, false) ; } var lcs_add = {}; var lcs_bc = {}; var lcs_ver = \"v0.5.00\"; var lcs_cnt = 0; function lcs_do( etc ) { if (!window.lcs_SerName) { window.lcs_SerName = \"lcs.naver.com\"; } var rs = \"\"; var index; var doc = document; var wlt = window.location; try { var lcs_Addr = (wlt.protocol ? wlt.protocol : \"http:\")+\"//\" + window.lcs_SerName + \"/m?\"; } catch(e){ return; } try { rs = lcs_Addr + \"u=\" + encodeURIComponent(wlt.href) + \"&e=\" + (doc.referrer ? encodeURIComponent(doc.referrer) : \"\"); } catch(e) { } try { if (typeof lcs_add.i == 'undefined' ) lcs_add.i = \"\"; for( var index in lcs_add) { if( typeof lcs_add[index] != 'function' ) rs += \"&\" + index + \"=\" + encodeURIComponent(lcs_add[index]); } for( var index in etc ) { if ( (index.length >= 3 && (typeof etc[index] != 'function')) || index == 'qy') { rs += \"&\" + index + \"=\" + encodeURIComponent(etc[index]); } } if(lcs_cnt < 1) { lcs_getBrowserCapa(); } for( var index in lcs_bc ) { if( typeof lcs_bc[index] != 'function' ) rs += \"&\" + index + \"=\" + encodeURIComponent(lcs_bc[index]); } var timeStr = (new Date).getTime(); rs += \"&ts=\" + timeStr; rs += \"&EOU\"; var obj = document.createElement('img') ; obj.src = rs; obj.onload = function() { obj.onload = null; return; } ; lcs_cnt++; } catch(e) { return; } } function lcs_getBrowserCapa() { lcs_getOS(); lcs_getlanguage(); lcs_getScreen(); lcs_getWindowSize(); lcs_getColorDepth(); lcs_getJavaEnabled(); lcs_getCookieEnabled(); } function lcs_getOS() { var lcs_os = \"\"; try { (navigator.platform ? lcs_os = navigator.platform : \"\"); } catch (e) { } lcs_bc[\"os\"] = lcs_os; } function lcs_getlanguage() { var lcs_ln = \"\"; try { (navigator.userLanguage? lcs_ln = navigator.userLanguage : (navigator.language)? lcs_ln = navigator.language : \"\"); } catch (e) { } lcs_bc[\"ln\"] = lcs_ln; } function lcs_getScreen() { var lcs_sr = \"\"; var pixelRatio = 0 ; try { if ( window.screen && screen.width && screen.height) { lcs_sr = screen.width + 'x'+ screen.height; pixelRatio = window.devicePixelRatio; if ( (pixelRatio) && (pixelRatio != 1) ){ lcs_sr = ( screen.width * pixelRatio ) + 'x' +( screen.height * pixelRatio ) ; } } else if ( window.java || self.java ) { var sr = java.awt.Toolkit.getDefaultToolkit().getScreenSize(); lcs_sr = sr.width + 'x' + sr.height; } } catch(e) { lcs_sr = \"\"; } lcs_bc[\"sr\"] = lcs_sr; } function lcs_getWindowSize() { var doc = document; lcs_bc[\"bw\"] = ''; lcs_bc[\"bh\"] = ''; try { lcs_bc[\"bw\"] = doc.documentElement.clientWidth ? doc.documentElement.clientWidth : doc.body.clientWidth; lcs_bc[\"bh\"] = doc.documentElement.clientHeight ? doc.documentElement.clientHeight : doc.body.clientHeight; } catch(e) { } } function lcs_getColorDepth(){ lcs_bc[\"c\"] = \"\"; try { if (window.screen) { lcs_bc[\"c\"] = screen.colorDepth ? screen.colorDepth : screen.pixelDepth; } else if (window.java || self.java ) { var c = java.awt.Toolkit.getDefaultToolkit().getColorModel().getPixelSize(); lcs_bc[\"c\"] = c; } } catch (e) { lcs_bc[\"c\"] = \"\"; } } function lcs_getJavaEnabled() { lcs_bc[\"j\"] = \"\"; try { lcs_bc[\"j\"]= navigator.javaEnabled() ? \"Y\":\"N\"; } catch (e) {} } function lcs_getCookieEnabled() { lcs_bc[\"k\"] = \"\"; try { lcs_bc[\"k\"]= navigator.cookieEnabled ? \"Y\":\"N\"; } catch (e) { } } if (window.addEventListener) window.addEventListener(\"load\", function() { lcs_do({\"sti\": \"deny_notice\"}) }, false) ; else lcs_do({\"sti\": \"deny_notice\"}) ; </script> <body> <div id=\"login_message\"> <div class=\"logo\"><a href=\"http://www.naver.com/\"><span class=\"blind\">naver</span></a></div> <div class=\"conts\"> <div class=\"rnd_t\"> <div class=\"notice_img\"><span class=\"blind\">!</span></div> <div class=\"notice_txt\"> <h3><img src=\"https://ssl.pstatic.net/sstatic/search/img3/txt_error02.gif\" width=\"233\" height=\"16\" alt=\"검색 서비스 이용이 제한되었습니다.\"></h3> <p class=\"info01\">사용 중이신 PC 또는 네트워크에서 네이버의 안정적인 검색 서비스를 방해하는 내용이 감지되었습니다.</p> <p class=\"info01\">네이버는 안정적인 검색 서비스를 제공하고자, 검색 서비스를 방해하는 비정상적인 움직임이 발견될 시 시스템에 의해 해당 네트워크의 검색을 일시적으로 제한하고 있습니다.<br><br> 보안 절차를 통과하면 검색 서비스를 정상적으로 이용하실 수 있습니다.<br> 보안 절차를 통과하려면 [제한 해제] 버튼을 클릭하세요.<br><br> ※ \"비정상적인 검색\"이란? : 프로그램등을 이용, 특정 단어를 반복적으로 대량으로 입력하는 등 네이버 검색 서비스의 안정성을 방해하는 검색 패턴을 의미합니다. </p> <div class=\"btn\"> <a class=\"btn_captcha on\" href=\"#\" onclick=\"this.href=window.location.href+(window.location.search==''?'?':'&amp;')+'ct=1';\"><span class=\"blind\">제한해제</span></a> </div>  </div> </div> <div class=\"rnd_b\"></div> </div> <div id=\"footer\"><div class=\"footer_wrap\"> <ul> <li class=\"first\"><a href=\"http://www.navercorp.com/\">회사소개</a></li> <li><a href=\"http://www.naver.com/rules/service.html\">이용약관</a></li> <li><a href=\"http://www.naver.com/rules/privacy.html\"><strong>개인정보취급방침</strong></a></li> <li><a href=\"http://www.naver.com/rules/disclaimer.html\">책임의 한계와 법적고지</a></li> <li><a href=\"http://help.naver.com/\">고객센터</a></li> </ul> <address> Copyright &copy; <a href=\"http://www.navercorp.com/\">NAVER Corp.</a> All Rights Reserved. </address> </div> </div> </body> </html>\n"
     ]
    },
    {
     "data": {
      "text/plain": [
       "OrderedDict()"
      ]
     },
     "execution_count": 15,
     "metadata": {},
     "output_type": "execute_result"
    }
   ],
   "source": [
    "from collections import OrderedDict\n",
    "from itertools import count\n",
    "\n",
    "def rednooby_cralwler(input_search, max_page):#사용자로부터 max_page 받아오기\n",
    "    url = 'https://search.naver.com/search.naver'\n",
    "    post_dict = OrderedDict()\n",
    "    \n",
    "    params = {\n",
    "        'query': input_search,\n",
    "        #'where': 'post',\n",
    "        #'start': 1,\n",
    "    }\n",
    "    print(params)\n",
    "    response = requests.get(url, params=params)\n",
    "    html = response.text\n",
    " \n",
    "    print(html)\n",
    "    soup = BeautifulSoup(html, 'html.parser')\n",
    " \n",
    "      \n",
    "    title_list = soup.select('.sh_blog_title')\n",
    " \n",
    "    for tag in title_list:\n",
    "        if max_page and (page > max_page):#max_page가 있고, page가 maxpage보다 클때\n",
    "            return post_dict#return으로 종료\n",
    "            \n",
    "        if tag['href'] in post_dict:\n",
    "            return post_dict\n",
    "            \n",
    "        print(tag.text, tag['href'])\n",
    "        post_dict[tag['href']] = tag.text\n",
    "            \n",
    "    return post_dict\n",
    "\n",
    "\n",
    "rednooby_cralwler(\"슈\",2)\n",
    "\n"
   ]
  },
  {
   "cell_type": "code",
   "execution_count": null,
   "metadata": {},
   "outputs": [],
   "source": []
  }
 ],
 "metadata": {
  "kernelspec": {
   "display_name": "Python 3",
   "language": "python",
   "name": "python3"
  },
  "language_info": {
   "codemirror_mode": {
    "name": "ipython",
    "version": 3
   },
   "file_extension": ".py",
   "mimetype": "text/x-python",
   "name": "python",
   "nbconvert_exporter": "python",
   "pygments_lexer": "ipython3",
   "version": "3.6.5"
  }
 },
 "nbformat": 4,
 "nbformat_minor": 2
}
