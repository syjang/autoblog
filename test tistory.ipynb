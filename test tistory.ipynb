{
 "cells": [
  {
   "cell_type": "code",
   "execution_count": 1,
   "metadata": {
    "collapsed": true
   },
   "outputs": [],
   "source": [
    "from selenium import webdriver\n",
    "from realtimekeyword import getNaverRealtimekeyword\n",
    "import time\n",
    "from bs4 import BeautifulSoup \n",
    "\n",
    "driver = driver = webdriver.Chrome(\"chromedriver.exe\") \n",
    "\n",
    "driver.implicitly_wait(3)"
   ]
  },
  {
   "cell_type": "code",
   "execution_count": 2,
   "metadata": {},
   "outputs": [],
   "source": [
    "dir = 'http://korea-issues.tistory.com/manage'\n",
    "driver.get(dir)\n",
    "\n",
    "str = driver.find_element_by_class_name(\"screen_out\").text\n",
    "\n",
    "\n",
    "driver.find_element_by_id(\"loginId\").send_keys(\"\")\n",
    "driver.find_element_by_id(\"loginPw\").send_keys(\"\")\n",
    "driver.find_element_by_class_name(\"btn_login\").click() "
   ]
  },
  {
   "cell_type": "code",
   "execution_count": 3,
   "metadata": {
    "collapsed": true
   },
   "outputs": [],
   "source": [
    "dir = \"http://korea-issues.tistory.com/admin/entry/post/\"\n",
    "driver.get(dir)\n",
    "\n"
   ]
  },
  {
   "cell_type": "code",
   "execution_count": 4,
   "metadata": {},
   "outputs": [],
   "source": [
    "#driver.execute_script(\"tx-switchtoggle\")\n",
    "driver.find_element_by_id(\"tx_switchertoggle\").click() "
   ]
  },
  {
   "cell_type": "code",
   "execution_count": 15,
   "metadata": {
    "collapsed": true
   },
   "outputs": [],
   "source": [
    "driver.find_element_by_id(\"tx_canvas_source\").send_keys(\"qweqwe\")\n"
   ]
  },
  {
   "cell_type": "code",
   "execution_count": null,
   "metadata": {
    "collapsed": true
   },
   "outputs": [],
   "source": []
  }
 ],
 "metadata": {
  "kernelspec": {
   "display_name": "Python 3",
   "language": "python",
   "name": "python3"
  },
  "language_info": {
   "codemirror_mode": {
    "name": "ipython",
    "version": 3
   },
   "file_extension": ".py",
   "mimetype": "text/x-python",
   "name": "python",
   "nbconvert_exporter": "python",
   "pygments_lexer": "ipython3",
   "version": "3.6.1"
  }
 },
 "nbformat": 4,
 "nbformat_minor": 2
}
